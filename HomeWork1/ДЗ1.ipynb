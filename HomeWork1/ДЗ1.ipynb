{
 "cells": [
  {
   "cell_type": "markdown",
   "id": "85968a13",
   "metadata": {
    "id": "oY3HD3eyIyC7"
   },
   "source": [
    "# Описание ДЗ1."
   ]
  },
  {
   "cell_type": "markdown",
   "id": "39ba428c",
   "metadata": {
    "id": "rRly-JkgJOo_"
   },
   "source": [
    "На основе семинара 1 предложите 2 метода улучшения построения эмбеддингов вопросов на основе word vectors.\n",
    "\n",
    "За задание можно получить максимум 10 баллов (за каждый метод можно получить максимум 5 баллов).\n",
    "\n",
    "Разбалловка:\n",
    "*   **Воспроизводимость и читабельность кода - 1 балл** (все воспроизвелось и все понятно для проверяющего - 1 балл; непонятный код и/или ничего не воспроизвелось - 0 баллов).\n",
    "*   **Корректность метода - 1 балл** (метод математически корректен и с точки зрения логики кода нет ошибок - 1 балл; все остальные случаи - 0 баллов).\n",
    "*   **Описание метода в техническом отчете - 2 балла** (есть подробное описание метода и почему используете именно его с обоснованиями - 2 балла; есть описание метода, но нет обоснования - 1 балл; нет описания метода- 0 баллов).\n",
    "*   **Иновационность - 1 балл** (используете нетривиальную обработку/лосс-функцию/модель - 1 балл; просто перебираете модели из коробок - 0 баллов).\n",
    "\n",
    "!!! ДЗ необходимо выполнять только в Google Colab !!!\n",
    "\n",
    "Присылать на почту llmrisks@yandex.ru с номером ДЗ и ФИО в теме. Каждая ДЗ отдельным письмом с отдельной темой."
   ]
  },
  {
   "cell_type": "markdown",
   "id": "e5510344",
   "metadata": {
    "id": "b09d7a19-5848-43f4-9d91-f35d4e8614b0"
   },
   "source": [
    "# 1. Информация о сабмите"
   ]
  },
  {
   "cell_type": "markdown",
   "id": "5c1f039a",
   "metadata": {
    "id": "cc8a4e09-62cc-43fd-a7a7-3e9d55ec13b2"
   },
   "source": [
    "***Напишите здесь** ваше ФИО*"
   ]
  },
  {
   "cell_type": "markdown",
   "id": "ae86fd35",
   "metadata": {
    "id": "1af498ab-3c00-4d36-a962-c947862fede8"
   },
   "source": [
    "# 2. Технический отчет"
   ]
  },
  {
   "cell_type": "markdown",
   "id": "8cad1fc8",
   "metadata": {
    "id": "c327f43e-ed30-4279-bba2-a97b2f8ef9e3"
   },
   "source": [
    "***Введите сюда** подробное описание предложенных методов и экспериментов, с помощью которых вы пришли именно к выбору этих методов. НЕ вставляйте код в эту часть. Описание должно состоять минимум из 2-4 абзацев и содержать следующее: тип модели, параметры, как вы выбрали параметры, какие дальнейшие модификации готовых решений и т.д. вы использовали. Сюда можно включить, например, некоторые хитрости вашей предварительной обработки, описание моделей и мотивацию их использования, описание деталей процесса обучения. Если нужно, вставьте сюда графики, математические формулы.*\n",
    "\n",
    "*Балл за «инновационность» будет присваиваться на основе содержания этой части. Если ваше отличие от бейзлайна это просто почистить тексты от стоп-слов или поменять одну базовую модель для построения word embeddings на другую, этот балл будет 0. Пробуйте разные подходы, модели, экспериментируйте с предварительной обработкой, параметрами и т. д. Можно переопределить уже существующий подход. Это нормально, что некоторые из ваших экспериментов не сработали так, как вы ожидали. Покажите нам, что вы проявили творческий подход и провели несколько экспериментов.*\n",
    "\n",
    "Пример решения на полный балл для похожей задачи:"
   ]
  },
  {
   "cell_type": "markdown",
   "id": "46f17064",
   "metadata": {
    "id": "194fecf1-e044-4210-a54b-aefbf4b4eebe"
   },
   "source": [
    "# 3. *Code*"
   ]
  },
  {
   "cell_type": "markdown",
   "id": "ca138d4e",
   "metadata": {
    "id": "a33ff9bd-62c6-4a63-8600-b1651420fee1"
   },
   "source": [
    "*Введите сюда весь код, использованный для получения результатов. Добавьте несколько комментариев и подразделов для навигации по вашему решению.*\n",
    "\n",
    "*В этой части вам предстоит самостоятельно разработать решение задачи и предоставить воспроизводимый код:*\n",
    "- *Использование Python 3;*\n",
    "- *Содержит код для установки всех зависимостей;*\n",
    "- *Содержит код для загрузки всех используемых наборов данных*;\n",
    "- *Содержит код для воспроизведения ваших результатов (другими словами, если проверяющий загрузит ваш блокнот, он сможет выполнить код по ячейкам и получить результаты эксперимента, как описано в разделе методологии)*.\n",
    "\n",
    "\n",
    "*В результате ваш код будет оценен по следующим критериям:*\n",
    "- ***Читаемость**: ваш код должен быть хорошо структурирован, желательно с указанием частей вашего подхода (предварительная обработка, обучение модели, тестирование модели и т. д.).*\n",
    "- ***Воспроизводимость**: ваш код должен воспроизводиться без ошибок в режиме «Выполнить все» (получение экспериментальной части).*\n"
   ]
  },
  {
   "cell_type": "markdown",
   "id": "7c21fafa",
   "metadata": {
    "id": "1b3c19fa-f883-4675-9506-85c4f02f0af9"
   },
   "source": [
    "## 3.1 Импорт библиотек"
   ]
  },
  {
   "cell_type": "code",
   "execution_count": 1,
   "id": "0b83137c",
   "metadata": {
    "id": "9RQzpKJkLczr"
   },
   "outputs": [],
   "source": [
    "import numpy as np\n",
    "from nltk.tokenize import WordPunctTokenizer\n",
    "import gensim.downloader as api\n",
    "# and some other your dependencies"
   ]
  },
  {
   "cell_type": "markdown",
   "id": "eaf6551c",
   "metadata": {
    "id": "791dc0e7-337d-46ad-96a3-543a732f19e2"
   },
   "source": [
    "## 3.2 Загрузка данных"
   ]
  },
  {
   "cell_type": "code",
   "execution_count": 2,
   "id": "3c73eb32",
   "metadata": {
    "colab": {
     "base_uri": "https://localhost:8080/"
    },
    "id": "b71a4653-86f2-448a-a2c4-17c02c1ba940",
    "outputId": "fa72adc2-ccd0-45a3-db70-cc11f56b5690",
    "tags": []
   },
   "outputs": [
    {
     "name": "stdout",
     "output_type": "stream",
     "text": [
      "--2024-05-23 16:51:17--  https://www.dropbox.com/s/obaitrix9jyu84r/quora.txt?dl=1\n",
      "Resolving www.dropbox.com (www.dropbox.com)... 162.125.4.18, 2620:100:601c:18::a27d:612\n",
      "Connecting to www.dropbox.com (www.dropbox.com)|162.125.4.18|:443... connected.\n",
      "HTTP request sent, awaiting response... 302 Found\n",
      "Location: /s/dl/obaitrix9jyu84r/quora.txt [following]\n",
      "--2024-05-23 16:51:17--  https://www.dropbox.com/s/dl/obaitrix9jyu84r/quora.txt\n",
      "Reusing existing connection to www.dropbox.com:443.\n",
      "HTTP request sent, awaiting response... 302 Found\n",
      "Location: https://uc5b87f9a7e0f0fca29bb7913e13.dl.dropboxusercontent.com/cd/0/get/CTcIXlZw5k-MRew7ADyDkVqijBcRzdVmQ0dvjPeFcPwyFF_hWK2wzEHWEU1F0EotoOJoYneSDjibu6e5SCskR_47M8O6fV5nB3CvrjmFSrHL_YJkOBujcnWpShpQ9LxmN4o/file?dl=1# [following]\n",
      "--2024-05-23 16:51:17--  https://uc5b87f9a7e0f0fca29bb7913e13.dl.dropboxusercontent.com/cd/0/get/CTcIXlZw5k-MRew7ADyDkVqijBcRzdVmQ0dvjPeFcPwyFF_hWK2wzEHWEU1F0EotoOJoYneSDjibu6e5SCskR_47M8O6fV5nB3CvrjmFSrHL_YJkOBujcnWpShpQ9LxmN4o/file?dl=1\n",
      "Resolving uc5b87f9a7e0f0fca29bb7913e13.dl.dropboxusercontent.com (uc5b87f9a7e0f0fca29bb7913e13.dl.dropboxusercontent.com)... 162.125.8.15, 2620:100:6019:15::a27d:40f\n",
      "Connecting to uc5b87f9a7e0f0fca29bb7913e13.dl.dropboxusercontent.com (uc5b87f9a7e0f0fca29bb7913e13.dl.dropboxusercontent.com)|162.125.8.15|:443... connected.\n",
      "HTTP request sent, awaiting response... 200 OK\n",
      "Length: 33813903 (32M) [application/binary]\n",
      "Saving to: ‘./quora.txt’\n",
      "\n",
      "./quora.txt         100%[===================>]  32.25M  57.8MB/s    in 0.6s    \n",
      "\n",
      "2024-05-23 16:51:18 (57.8 MB/s) - ‘./quora.txt’ saved [33813903/33813903]\n",
      "\n"
     ]
    }
   ],
   "source": [
    "# download the data:\n",
    "!wget https://www.dropbox.com/s/obaitrix9jyu84r/quora.txt?dl=1 -O ./quora.txt\n",
    "# alternative download link: https://yadi.sk/i/BPQrUu1NaTduEw\n",
    "\n",
    "data = list(open(\"./quora.txt\", encoding=\"utf-8\"))"
   ]
  },
  {
   "cell_type": "markdown",
   "id": "5a62af06",
   "metadata": {
    "id": "23773d4e-e8d7-4e56-9610-4ee61b38c65a"
   },
   "source": [
    "## 3.3. Модель"
   ]
  },
  {
   "cell_type": "code",
   "execution_count": 3,
   "id": "f9699b0a",
   "metadata": {
    "id": "-ySx_n28KGAX"
   },
   "outputs": [],
   "source": [
    "def get_phrase_embedding(phrase):\n",
    "    \"\"\"\n",
    "    Convert phrase to a vector by aggregating it's word embeddings. See description above.\n",
    "    \"\"\"\n",
    "    # 1. lowercase phrase\n",
    "    # 2. tokenize phrase\n",
    "    # 3. average word vectors for all words in tokenized phrase\n",
    "    # skip words that are not in model's vocabulary\n",
    "    # if all words are missing from vocabulary, return zeros\n",
    "\n",
    "    vector = np.zeros([model.vector_size], dtype='float32')\n",
    "    word_vectors = []\n",
    "\n",
    "    data_tok = tokenizer.tokenize(phrase.lower())\n",
    "    word_vectors = np.array([model.get_vector(word) for word in data_tok if word in model.key_to_index.keys()])\n",
    "\n",
    "    if word_vectors.size != 0:\n",
    "        vector = np.average(word_vectors, axis=0)\n",
    "\n",
    "    return vector"
   ]
  },
  {
   "cell_type": "code",
   "execution_count": 4,
   "id": "d5dfdfb9",
   "metadata": {
    "colab": {
     "base_uri": "https://localhost:8080/"
    },
    "id": "YL_MtCWYWtVG",
    "outputId": "11e6b814-d4ec-4265-b693-958d0b7a05ff"
   },
   "outputs": [
    {
     "name": "stdout",
     "output_type": "stream",
     "text": [
      "[==================================================] 100.0% 387.1/387.1MB downloaded\n"
     ]
    }
   ],
   "source": [
    "tokenizer = WordPunctTokenizer()\n",
    "model = api.load('glove-twitter-100')"
   ]
  },
  {
   "cell_type": "code",
   "execution_count": 5,
   "id": "1a9ae791",
   "metadata": {
    "id": "FEpFpJsfUdA4"
   },
   "outputs": [],
   "source": [
    "# compute vector embedding for all lines in data\n",
    "data_vectors = np.array([get_phrase_embedding(l) for l in data])"
   ]
  },
  {
   "cell_type": "markdown",
   "id": "be1ced65",
   "metadata": {
    "id": "9hlHZAJAL1qL"
   },
   "source": [
    "## 3.4. Применение модели"
   ]
  },
  {
   "cell_type": "code",
   "execution_count": 6,
   "id": "aa3cfdde",
   "metadata": {
    "id": "2jbRh4UuL1qP"
   },
   "outputs": [],
   "source": [
    "def find_nearest(query, k=10):\n",
    "    \"\"\"\n",
    "    given text line (query), return k most similar lines from data, sorted from most to least similar\n",
    "    similarity should be measured as cosine between query and line embedding vectors\n",
    "    hint: it's okay to use global variables: data and data_vectors. see also: np.argpartition, np.argsort\n",
    "    \"\"\"\n",
    "    from scipy.spatial.distance import cosine\n",
    "    from tqdm import tqdm\n",
    "    emb = get_phrase_embedding(query)\n",
    "    similarities = np.array([1 - cosine(emb, embedding) for embedding in tqdm(data_vectors)])\n",
    "    indices = np.argpartition(-similarities, range(10))[:10]\n",
    "\n",
    "    return [data[ind] for ind in indices]"
   ]
  },
  {
   "cell_type": "code",
   "execution_count": 7,
   "id": "5333929b",
   "metadata": {
    "colab": {
     "base_uri": "https://localhost:8080/"
    },
    "id": "BZoG_qL2U0g_",
    "outputId": "f92ee08a-f0cb-4a58-c609-78713ad2a460"
   },
   "outputs": [
    {
     "name": "stderr",
     "output_type": "stream",
     "text": [
      "  6%|▋         | 33750/537272 [00:03<00:21, 23234.67it/s]/usr/local/lib/python3.10/dist-packages/scipy/spatial/distance.py:636: RuntimeWarning: invalid value encountered in scalar divide\n",
      "  dist = 1.0 - uv / np.sqrt(uu * vv)\n",
      "100%|██████████| 537272/537272 [00:27<00:00, 19871.31it/s]\n"
     ]
    },
    {
     "data": {
      "text/plain": [
       "['AOSDHIADSOIHADSO DASODASHDASOH\\n',\n",
       " 'parisflatlist\\n',\n",
       " 'What does Donald Trump think about Israel?\\n',\n",
       " 'What books does Donald Trump like?\\n',\n",
       " 'What does Donald Trump think of India?\\n',\n",
       " 'What does India think of Donald Trump?\\n',\n",
       " 'What does Donald Trump think of China?\\n',\n",
       " 'What does Donald Trump think about Pakistan?\\n',\n",
       " 'What companies does Donald Trump own?\\n',\n",
       " 'What does Dushka Zapata think about Donald Trump?\\n']"
      ]
     },
     "execution_count": 7,
     "metadata": {},
     "output_type": "execute_result"
    }
   ],
   "source": [
    "find_nearest(query=\"How does Trump?\", k=10)"
   ]
  },
  {
   "cell_type": "code",
   "execution_count": null,
   "id": "a3c16636",
   "metadata": {
    "id": "DsKZSMCyZBuU"
   },
   "outputs": [],
   "source": []
  }
 ],
 "metadata": {
  "colab": {
   "provenance": []
  },
  "kernelspec": {
   "display_name": "Python 3",
   "language": "python",
   "name": "python3"
  },
  "language_info": {
   "codemirror_mode": {
    "name": "ipython",
    "version": 3
   },
   "file_extension": ".py",
   "mimetype": "text/x-python",
   "name": "python",
   "nbconvert_exporter": "python",
   "pygments_lexer": "ipython3",
   "version": "3.8.5"
  }
 },
 "nbformat": 4,
 "nbformat_minor": 5
}
