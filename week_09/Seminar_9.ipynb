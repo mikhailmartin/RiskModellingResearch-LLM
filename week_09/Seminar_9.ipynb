{
  "cells": [
    {
      "cell_type": "code",
      "execution_count": null,
      "metadata": {
        "colab": {
          "base_uri": "https://localhost:8080/"
        },
        "id": "3Ps3apwrIW4A",
        "outputId": "7686f072-f661-44dc-8c21-2cbb1cbac848"
      },
      "outputs": [
        {
          "name": "stdout",
          "output_type": "stream",
          "text": [
            "Requirement already satisfied: ruprompts in /usr/local/lib/python3.10/dist-packages (0.1.4)\n",
            "Requirement already satisfied: torch<2.0.0,>=1.10.0 in /usr/local/lib/python3.10/dist-packages (from ruprompts) (1.13.1)\n",
            "Requirement already satisfied: torchtyping<0.2.0,>=0.1.4 in /usr/local/lib/python3.10/dist-packages (from ruprompts) (0.1.4)\n",
            "Requirement already satisfied: transformers<5.0.0,>=4.6.0 in /usr/local/lib/python3.10/dist-packages (from ruprompts) (4.41.2)\n",
            "Requirement already satisfied: typeguard<3.0.0,>=2.13.3 in /usr/local/lib/python3.10/dist-packages (from ruprompts) (2.13.3)\n",
            "Requirement already satisfied: typing-extensions<5.0.0,>=4.0.1 in /usr/local/lib/python3.10/dist-packages (from ruprompts) (4.12.2)\n",
            "Requirement already satisfied: nvidia-cuda-runtime-cu11==11.7.99 in /usr/local/lib/python3.10/dist-packages (from torch<2.0.0,>=1.10.0->ruprompts) (11.7.99)\n",
            "Requirement already satisfied: nvidia-cudnn-cu11==8.5.0.96 in /usr/local/lib/python3.10/dist-packages (from torch<2.0.0,>=1.10.0->ruprompts) (8.5.0.96)\n",
            "Requirement already satisfied: nvidia-cublas-cu11==11.10.3.66 in /usr/local/lib/python3.10/dist-packages (from torch<2.0.0,>=1.10.0->ruprompts) (11.10.3.66)\n",
            "Requirement already satisfied: nvidia-cuda-nvrtc-cu11==11.7.99 in /usr/local/lib/python3.10/dist-packages (from torch<2.0.0,>=1.10.0->ruprompts) (11.7.99)\n",
            "Requirement already satisfied: setuptools in /usr/local/lib/python3.10/dist-packages (from nvidia-cublas-cu11==11.10.3.66->torch<2.0.0,>=1.10.0->ruprompts) (67.7.2)\n",
            "Requirement already satisfied: wheel in /usr/local/lib/python3.10/dist-packages (from nvidia-cublas-cu11==11.10.3.66->torch<2.0.0,>=1.10.0->ruprompts) (0.43.0)\n",
            "Requirement already satisfied: filelock in /usr/local/lib/python3.10/dist-packages (from transformers<5.0.0,>=4.6.0->ruprompts) (3.15.4)\n",
            "Requirement already satisfied: huggingface-hub<1.0,>=0.23.0 in /usr/local/lib/python3.10/dist-packages (from transformers<5.0.0,>=4.6.0->ruprompts) (0.23.4)\n",
            "Requirement already satisfied: numpy>=1.17 in /usr/local/lib/python3.10/dist-packages (from transformers<5.0.0,>=4.6.0->ruprompts) (1.25.2)\n",
            "Requirement already satisfied: packaging>=20.0 in /usr/local/lib/python3.10/dist-packages (from transformers<5.0.0,>=4.6.0->ruprompts) (24.1)\n",
            "Requirement already satisfied: pyyaml>=5.1 in /usr/local/lib/python3.10/dist-packages (from transformers<5.0.0,>=4.6.0->ruprompts) (6.0.1)\n",
            "Requirement already satisfied: regex!=2019.12.17 in /usr/local/lib/python3.10/dist-packages (from transformers<5.0.0,>=4.6.0->ruprompts) (2024.5.15)\n",
            "Requirement already satisfied: requests in /usr/local/lib/python3.10/dist-packages (from transformers<5.0.0,>=4.6.0->ruprompts) (2.31.0)\n",
            "Requirement already satisfied: tokenizers<0.20,>=0.19 in /usr/local/lib/python3.10/dist-packages (from transformers<5.0.0,>=4.6.0->ruprompts) (0.19.1)\n",
            "Requirement already satisfied: safetensors>=0.4.1 in /usr/local/lib/python3.10/dist-packages (from transformers<5.0.0,>=4.6.0->ruprompts) (0.4.3)\n",
            "Requirement already satisfied: tqdm>=4.27 in /usr/local/lib/python3.10/dist-packages (from transformers<5.0.0,>=4.6.0->ruprompts) (4.66.4)\n",
            "Requirement already satisfied: fsspec>=2023.5.0 in /usr/local/lib/python3.10/dist-packages (from huggingface-hub<1.0,>=0.23.0->transformers<5.0.0,>=4.6.0->ruprompts) (2023.6.0)\n",
            "Requirement already satisfied: charset-normalizer<4,>=2 in /usr/local/lib/python3.10/dist-packages (from requests->transformers<5.0.0,>=4.6.0->ruprompts) (3.3.2)\n",
            "Requirement already satisfied: idna<4,>=2.5 in /usr/local/lib/python3.10/dist-packages (from requests->transformers<5.0.0,>=4.6.0->ruprompts) (3.7)\n",
            "Requirement already satisfied: urllib3<3,>=1.21.1 in /usr/local/lib/python3.10/dist-packages (from requests->transformers<5.0.0,>=4.6.0->ruprompts) (2.0.7)\n",
            "Requirement already satisfied: certifi>=2017.4.17 in /usr/local/lib/python3.10/dist-packages (from requests->transformers<5.0.0,>=4.6.0->ruprompts) (2024.7.4)\n"
          ]
        }
      ],
      "source": [
        "%pip install ruprompts"
      ]
    },
    {
      "cell_type": "markdown",
      "metadata": {
        "id": "tLVjBQMDIW4E"
      },
      "source": [
        "In this tutorial we show how to load and use the pretrained prompts from HuggingFace Hub."
      ]
    },
    {
      "cell_type": "code",
      "execution_count": null,
      "metadata": {
        "colab": {
          "background_save": true
        },
        "id": "yQJEN_uiIW4F"
      },
      "outputs": [],
      "source": [
        "# although not used directly, this import is necessary,\n",
        "# since it adds our custom pipelines to transformers\n",
        "import ruprompts\n",
        "\n",
        "from transformers import pipeline"
      ]
    },
    {
      "cell_type": "markdown",
      "metadata": {
        "id": "V5oegfreIW4G"
      },
      "source": [
        "Let's first load the joke prompt:"
      ]
    },
    {
      "cell_type": "code",
      "execution_count": null,
      "metadata": {
        "id": "QzT6-mqnIW4G"
      },
      "outputs": [],
      "source": [
        "ppln_joke = pipeline(\"text-generation-with-prompt\", prompt=\"konodyuk/prompt_rugpt3large_joke\", device=0)"
      ]
    },
    {
      "cell_type": "markdown",
      "metadata": {
        "id": "-vTt0oreIW4H"
      },
      "source": [
        "Note that we didn't specify the `model=` and `tokenizer=` arguments. They are inferred from pretrained prompt config.\n",
        "\n",
        "Using the pipeline with prompt is almost identical to using the regular text generation pipeline:"
      ]
    },
    {
      "cell_type": "code",
      "execution_count": null,
      "metadata": {
        "id": "3p11Ga5LIW4H"
      },
      "outputs": [],
      "source": [
        "ppln_joke(\"Говорит как-то дуб вороне\")"
      ]
    },
    {
      "cell_type": "markdown",
      "metadata": {
        "id": "wMThHzXrIW4I"
      },
      "source": [
        "Although it is more convenient to omit model arguments, it leads to reinstantiation of the same model each time we create a pipeline. An easy fix is to create model and tokenizer once and then pass it to all the pipelines:"
      ]
    },
    {
      "cell_type": "code",
      "execution_count": null,
      "metadata": {
        "id": "PgMgFfA1IW4I"
      },
      "outputs": [],
      "source": [
        "from transformers import GPT2LMHeadModel, AutoTokenizer\n",
        "\n",
        "model_id = \"sberbank-ai/rugpt3large_based_on_gpt2\"\n",
        "model = GPT2LMHeadModel.from_pretrained(model_id)\n",
        "tokenizer = AutoTokenizer.from_pretrained(model_id)"
      ]
    },
    {
      "cell_type": "markdown",
      "metadata": {
        "id": "d9ppEiP9IW4J"
      },
      "source": [
        "It will speed up loading the proverb pipeline:"
      ]
    },
    {
      "cell_type": "code",
      "execution_count": null,
      "metadata": {
        "id": "13kOk8MyIW4J"
      },
      "outputs": [],
      "source": [
        "ppln_proverb = pipeline(\"text-generation-with-prompt\", prompt=\"konodyuk/prompt_rugpt3large_proverb\", model=model, tokenizer=tokenizer, device=0)\n",
        "ppln_proverb(\"Сколько ни\")"
      ]
    },
    {
      "cell_type": "markdown",
      "metadata": {
        "id": "QQLK_C_xIW4J"
      },
      "source": [
        "Loading and using text2text prompts is almost identical:"
      ]
    },
    {
      "cell_type": "code",
      "execution_count": null,
      "metadata": {
        "id": "1dLhhEK3IW4K"
      },
      "outputs": [],
      "source": [
        "ppln_detox = pipeline(\"text2text-generation-with-prompt\", prompt=\"konodyuk/prompt_rugpt3large_detox_russe\", model=model, tokenizer=tokenizer, device=0)\n",
        "ppln_detox({\"toxic_comment\": \"Ублюдок, мать твою, а ну иди сюда\"})"
      ]
    },
    {
      "cell_type": "code",
      "execution_count": null,
      "metadata": {
        "id": "PO69rS1IIW4K"
      },
      "outputs": [],
      "source": [
        "long_text = \"\"\"Несмотря на споры, большинство учёных сошлись во мнении, что кошка является полуодомашненным животным, то есть она способна на сосуществование с человеком, но, потеряв с ним контакт, легко возвращаются к дикому образу существования. Хотя у кошки наблюдаются генетические изменения в сравнении с диким предком, эта разница в 10 раз меньше, чем у собак с волками. Учёные считают, что дикая кошка действительно могла сама прийти к человеку, чтобы питаться грызунами, а такие отношения характеризовались как соседские, и уже через несколько тысяч лет люди сами стали одомашнивать маленьких хищников. Это также, вероятно, объясняет, почему модель поведения кошки почти не изменилась; при одомашнивании собаки из волка человек изменил её образ жизни и среду обитания, кошка же претерпела минимальные изменения Кошка сумела сохранить модель поведения, присущую её диким предкам. Она почти так же хорошо охотится, как дикая кошка, но в то же время способна мирно сосуществовать с человеком, проявлять к нему эмоциональную привязанность, нежность или даже выказывать игривое поведение.\"\"\"\n",
        "ppln_summary = pipeline(\"text2text-generation-with-prompt\", prompt=\"konodyuk/prompt_rugpt3large_summarization_mlsum\", model=model, tokenizer=tokenizer, device=0)\n",
        "\n",
        "ppln_summary(long_text, num_beams=5, num_return_sequences=3)"
      ]
    },
    {
      "cell_type": "code",
      "execution_count": null,
      "metadata": {
        "id": "XmCV2mH9IW4K"
      },
      "outputs": [],
      "source": [
        "ppln_summary = pipeline(\"text2text-generation-with-prompt\", prompt=\"konodyuk/prompt_rugpt3large_title_mlsum\", model=model, tokenizer=tokenizer, device=0)\n",
        "ppln_summary(long_text, num_beams=5, num_return_sequences=3)"
      ]
    },
    {
      "cell_type": "markdown",
      "metadata": {
        "id": "lX6S9v3fIW4L"
      },
      "source": [
        "In some cases pipeline takes multiple arguments:"
      ]
    },
    {
      "cell_type": "code",
      "execution_count": null,
      "metadata": {
        "id": "CrUsFX0IIW4L"
      },
      "outputs": [],
      "source": [
        "context = \"\"\"В 1997 году Шмидхубер и Сепп Хохрайтер опубликовали работу, описывающую рекуррентную нейронную сеть, которую авторы назвали «Долгая краткосрочная память». В 2015 году эта архитектура была использована в новой реализации распознавания речи в программном обеспечении компании Google для смартфонов.\n",
        "\n",
        "Исследования Шмидхубера также включают в себя генерализации колмогоровской сложности и метрики «скорость важна» (Speed Prior), создание концепции Машины Гёделя.\n",
        "\n",
        "В 2014 году Шмидхубер основал компанию Nnaisense для работы в сфере коммерческого применения технологий искусственного интеллекта в таких областях как финансы, тяжёлая промышленность и самоуправляемый автотранспорт. Сепп Хохрайтер и Яан Таллинн занимают в компании пост советников.\"\"\"\n",
        "\n",
        "ppln_qa = pipeline(\"text2text-generation-with-prompt\", prompt=\"konodyuk/prompt_rugpt3large_qa_sberquad\", model=model, tokenizer=tokenizer, device=0)\n",
        "ppln_qa({\"context\": context, \"question\": \"С кем Шмидхубер опубликовал работу?\"})"
      ]
    },
    {
      "cell_type": "markdown",
      "metadata": {
        "id": "wFBgJIj5IW4L"
      },
      "source": [
        "So far we needed to create a separate pipeline for each task. It may be inconvenient if you want to serve multiple prompts simultaneously. For this case we provide a more low-level interface, called MultiPrompt:"
      ]
    },
    {
      "cell_type": "code",
      "execution_count": null,
      "metadata": {
        "id": "M6U4_iAsIW4L"
      },
      "outputs": [],
      "source": [
        "from ruprompts import MultiPrompt\n",
        "\n",
        "mp = MultiPrompt({\n",
        "    \"detox\": \"konodyuk/prompt_rugpt3large_detox_russe\",\n",
        "    \"qa\": \"konodyuk/prompt_rugpt3large_qa_sberquad\",\n",
        "})\n",
        "mp.patch(model, tokenizer)\n"
      ]
    },
    {
      "cell_type": "markdown",
      "metadata": {
        "id": "5vg_ihRlIW4M"
      },
      "source": [
        "Now we need to create a regular generation pipeline:"
      ]
    },
    {
      "cell_type": "code",
      "execution_count": null,
      "metadata": {
        "id": "B8kyLCXGIW4M"
      },
      "outputs": [],
      "source": [
        "ppln = pipeline(\"text-generation\", model=model, tokenizer=tokenizer, device='cpu', return_full_text=False, do_sample=True, eos_token_id=0, max_new_tokens=100)"
      ]
    },
    {
      "cell_type": "markdown",
      "metadata": {
        "id": "RPnNyj9QIW4M"
      },
      "source": [
        "To switch the task, we just need to change the key:"
      ]
    },
    {
      "cell_type": "code",
      "execution_count": null,
      "metadata": {
        "id": "zZ-MuPx1IW4M"
      },
      "outputs": [],
      "source": [
        "ppln(mp(key=\"detox\", toxic_comment=\"Какого черта ты сюда припёрся?\"))"
      ]
    },
    {
      "cell_type": "code",
      "execution_count": null,
      "metadata": {
        "id": "JFuyG9HkIW4M"
      },
      "outputs": [],
      "source": [
        "ppln(mp(key=\"qa\", context=context, question=\"В каком году была основана Nnaisense?\"))"
      ]
    },
    {
      "cell_type": "code",
      "execution_count": null,
      "metadata": {
        "id": "9a-fuHJ9IexV"
      },
      "outputs": [],
      "source": []
    }
  ],
  "metadata": {
    "accelerator": "GPU",
    "colab": {
      "provenance": []
    },
    "gpuClass": "standard",
    "kernelspec": {
      "display_name": "Python 3",
      "name": "python3"
    },
    "language_info": {
      "name": "python"
    }
  },
  "nbformat": 4,
  "nbformat_minor": 0
}